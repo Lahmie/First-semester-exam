{
 "cells": [
  {
   "cell_type": "code",
   "execution_count": 2,
   "id": "e04d4b4f",
   "metadata": {},
   "outputs": [],
   "source": [
    "import pandas as pd"
   ]
  },
  {
   "cell_type": "code",
   "execution_count": 3,
   "id": "ccd1ebd8",
   "metadata": {},
   "outputs": [
    {
     "data": {
      "text/html": [
       "<div>\n",
       "<style scoped>\n",
       "    .dataframe tbody tr th:only-of-type {\n",
       "        vertical-align: middle;\n",
       "    }\n",
       "\n",
       "    .dataframe tbody tr th {\n",
       "        vertical-align: top;\n",
       "    }\n",
       "\n",
       "    .dataframe thead th {\n",
       "        text-align: right;\n",
       "    }\n",
       "</style>\n",
       "<table border=\"1\" class=\"dataframe\">\n",
       "  <thead>\n",
       "    <tr style=\"text-align: right;\">\n",
       "      <th></th>\n",
       "      <th>sensor_id</th>\n",
       "      <th>timestamp</th>\n",
       "      <th>pH</th>\n",
       "      <th>turbidity</th>\n",
       "      <th>dissolved_oxygen</th>\n",
       "      <th>temperature</th>\n",
       "    </tr>\n",
       "  </thead>\n",
       "  <tbody>\n",
       "    <tr>\n",
       "      <th>0</th>\n",
       "      <td>SENSOR_005</td>\n",
       "      <td>2023-01-01 00:00:00</td>\n",
       "      <td>6.48</td>\n",
       "      <td>2.43</td>\n",
       "      <td>7.87</td>\n",
       "      <td>21.81</td>\n",
       "    </tr>\n",
       "    <tr>\n",
       "      <th>1</th>\n",
       "      <td>SENSOR_017</td>\n",
       "      <td>2023-01-01 00:30:00</td>\n",
       "      <td>7.04</td>\n",
       "      <td>4.39</td>\n",
       "      <td>7.49</td>\n",
       "      <td>18.51</td>\n",
       "    </tr>\n",
       "    <tr>\n",
       "      <th>2</th>\n",
       "      <td>SENSOR_010</td>\n",
       "      <td>2023-01-01 01:00:00</td>\n",
       "      <td>6.69</td>\n",
       "      <td>3.78</td>\n",
       "      <td>6.90</td>\n",
       "      <td>20.96</td>\n",
       "    </tr>\n",
       "    <tr>\n",
       "      <th>3</th>\n",
       "      <td>SENSOR_009</td>\n",
       "      <td>2023-01-01 01:30:00</td>\n",
       "      <td>6.50</td>\n",
       "      <td>2.42</td>\n",
       "      <td>9.38</td>\n",
       "      <td>22.22</td>\n",
       "    </tr>\n",
       "    <tr>\n",
       "      <th>4</th>\n",
       "      <td>SENSOR_001</td>\n",
       "      <td>2023-01-01 02:00:00</td>\n",
       "      <td>7.75</td>\n",
       "      <td>2.72</td>\n",
       "      <td>9.32</td>\n",
       "      <td>21.26</td>\n",
       "    </tr>\n",
       "    <tr>\n",
       "      <th>...</th>\n",
       "      <td>...</td>\n",
       "      <td>...</td>\n",
       "      <td>...</td>\n",
       "      <td>...</td>\n",
       "      <td>...</td>\n",
       "      <td>...</td>\n",
       "    </tr>\n",
       "    <tr>\n",
       "      <th>995</th>\n",
       "      <td>SENSOR_007</td>\n",
       "      <td>2023-01-21 17:30:00</td>\n",
       "      <td>6.61</td>\n",
       "      <td>3.12</td>\n",
       "      <td>10.25</td>\n",
       "      <td>14.41</td>\n",
       "    </tr>\n",
       "    <tr>\n",
       "      <th>996</th>\n",
       "      <td>SENSOR_019</td>\n",
       "      <td>2023-01-21 18:00:00</td>\n",
       "      <td>6.89</td>\n",
       "      <td>2.62</td>\n",
       "      <td>6.44</td>\n",
       "      <td>20.94</td>\n",
       "    </tr>\n",
       "    <tr>\n",
       "      <th>997</th>\n",
       "      <td>SENSOR_002</td>\n",
       "      <td>2023-01-21 18:30:00</td>\n",
       "      <td>6.73</td>\n",
       "      <td>3.36</td>\n",
       "      <td>7.92</td>\n",
       "      <td>21.93</td>\n",
       "    </tr>\n",
       "    <tr>\n",
       "      <th>998</th>\n",
       "      <td>SENSOR_007</td>\n",
       "      <td>2023-01-21 19:00:00</td>\n",
       "      <td>6.68</td>\n",
       "      <td>1.55</td>\n",
       "      <td>5.19</td>\n",
       "      <td>18.06</td>\n",
       "    </tr>\n",
       "    <tr>\n",
       "      <th>999</th>\n",
       "      <td>SENSOR_020</td>\n",
       "      <td>2023-01-21 19:30:00</td>\n",
       "      <td>6.86</td>\n",
       "      <td>2.95</td>\n",
       "      <td>9.49</td>\n",
       "      <td>20.56</td>\n",
       "    </tr>\n",
       "  </tbody>\n",
       "</table>\n",
       "<p>1000 rows × 6 columns</p>\n",
       "</div>"
      ],
      "text/plain": [
       "      sensor_id            timestamp    pH  turbidity  dissolved_oxygen  \\\n",
       "0    SENSOR_005  2023-01-01 00:00:00  6.48       2.43              7.87   \n",
       "1    SENSOR_017  2023-01-01 00:30:00  7.04       4.39              7.49   \n",
       "2    SENSOR_010  2023-01-01 01:00:00  6.69       3.78              6.90   \n",
       "3    SENSOR_009  2023-01-01 01:30:00  6.50       2.42              9.38   \n",
       "4    SENSOR_001  2023-01-01 02:00:00  7.75       2.72              9.32   \n",
       "..          ...                  ...   ...        ...               ...   \n",
       "995  SENSOR_007  2023-01-21 17:30:00  6.61       3.12             10.25   \n",
       "996  SENSOR_019  2023-01-21 18:00:00  6.89       2.62              6.44   \n",
       "997  SENSOR_002  2023-01-21 18:30:00  6.73       3.36              7.92   \n",
       "998  SENSOR_007  2023-01-21 19:00:00  6.68       1.55              5.19   \n",
       "999  SENSOR_020  2023-01-21 19:30:00  6.86       2.95              9.49   \n",
       "\n",
       "     temperature  \n",
       "0          21.81  \n",
       "1          18.51  \n",
       "2          20.96  \n",
       "3          22.22  \n",
       "4          21.26  \n",
       "..           ...  \n",
       "995        14.41  \n",
       "996        20.94  \n",
       "997        21.93  \n",
       "998        18.06  \n",
       "999        20.56  \n",
       "\n",
       "[1000 rows x 6 columns]"
      ]
     },
     "execution_count": 3,
     "metadata": {},
     "output_type": "execute_result"
    }
   ],
   "source": [
    "data = pd.read_csv('../data/sensor_data.csv')\n",
    "data"
   ]
  },
  {
   "cell_type": "code",
   "execution_count": 6,
   "id": "2e6e3b97",
   "metadata": {},
   "outputs": [
    {
     "data": {
      "text/plain": [
       "sensor_id           0\n",
       "timestamp           0\n",
       "pH                  0\n",
       "turbidity           0\n",
       "dissolved_oxygen    0\n",
       "temperature         0\n",
       "dtype: int64"
      ]
     },
     "execution_count": 6,
     "metadata": {},
     "output_type": "execute_result"
    }
   ],
   "source": [
    "data.isnull().sum()"
   ]
  },
  {
   "cell_type": "markdown",
   "id": "695062d1",
   "metadata": {},
   "source": [
    "No missing values "
   ]
  },
  {
   "cell_type": "code",
   "execution_count": 7,
   "id": "1b1f6191",
   "metadata": {},
   "outputs": [
    {
     "data": {
      "text/plain": [
       "sensor_id            object\n",
       "timestamp            object\n",
       "pH                  float64\n",
       "turbidity           float64\n",
       "dissolved_oxygen    float64\n",
       "temperature         float64\n",
       "dtype: object"
      ]
     },
     "execution_count": 7,
     "metadata": {},
     "output_type": "execute_result"
    }
   ],
   "source": [
    "data.dtypes"
   ]
  },
  {
   "cell_type": "markdown",
   "id": "7f148b00",
   "metadata": {},
   "source": [
    "set timestamp to datetime \n"
   ]
  },
  {
   "cell_type": "code",
   "execution_count": 8,
   "id": "09b50e75",
   "metadata": {},
   "outputs": [
    {
     "data": {
      "text/plain": [
       "sensor_id                   object\n",
       "timestamp           datetime64[ns]\n",
       "pH                         float64\n",
       "turbidity                  float64\n",
       "dissolved_oxygen           float64\n",
       "temperature                float64\n",
       "dtype: object"
      ]
     },
     "execution_count": 8,
     "metadata": {},
     "output_type": "execute_result"
    }
   ],
   "source": [
    "data.timestamp = pd.to_datetime(data.timestamp)\n",
    "data.dtypes"
   ]
  },
  {
   "cell_type": "code",
   "execution_count": 9,
   "id": "9a920096",
   "metadata": {},
   "outputs": [
    {
     "data": {
      "text/html": [
       "<div>\n",
       "<style scoped>\n",
       "    .dataframe tbody tr th:only-of-type {\n",
       "        vertical-align: middle;\n",
       "    }\n",
       "\n",
       "    .dataframe tbody tr th {\n",
       "        vertical-align: top;\n",
       "    }\n",
       "\n",
       "    .dataframe thead th {\n",
       "        text-align: right;\n",
       "    }\n",
       "</style>\n",
       "<table border=\"1\" class=\"dataframe\">\n",
       "  <thead>\n",
       "    <tr style=\"text-align: right;\">\n",
       "      <th></th>\n",
       "      <th>pH</th>\n",
       "      <th>turbidity</th>\n",
       "      <th>dissolved_oxygen</th>\n",
       "      <th>temperature</th>\n",
       "    </tr>\n",
       "  </thead>\n",
       "  <tbody>\n",
       "    <tr>\n",
       "      <th>count</th>\n",
       "      <td>1000.000000</td>\n",
       "      <td>1000.00000</td>\n",
       "      <td>1000.00000</td>\n",
       "      <td>1000.000000</td>\n",
       "    </tr>\n",
       "    <tr>\n",
       "      <th>mean</th>\n",
       "      <td>7.009950</td>\n",
       "      <td>3.01098</td>\n",
       "      <td>7.95224</td>\n",
       "      <td>21.867860</td>\n",
       "    </tr>\n",
       "    <tr>\n",
       "      <th>std</th>\n",
       "      <td>0.493966</td>\n",
       "      <td>0.99180</td>\n",
       "      <td>1.55416</td>\n",
       "      <td>2.863409</td>\n",
       "    </tr>\n",
       "    <tr>\n",
       "      <th>min</th>\n",
       "      <td>5.280000</td>\n",
       "      <td>-0.10000</td>\n",
       "      <td>2.49000</td>\n",
       "      <td>13.730000</td>\n",
       "    </tr>\n",
       "    <tr>\n",
       "      <th>25%</th>\n",
       "      <td>6.687500</td>\n",
       "      <td>2.37000</td>\n",
       "      <td>6.91750</td>\n",
       "      <td>19.930000</td>\n",
       "    </tr>\n",
       "    <tr>\n",
       "      <th>50%</th>\n",
       "      <td>7.020000</td>\n",
       "      <td>3.01000</td>\n",
       "      <td>7.92500</td>\n",
       "      <td>21.860000</td>\n",
       "    </tr>\n",
       "    <tr>\n",
       "      <th>75%</th>\n",
       "      <td>7.350000</td>\n",
       "      <td>3.70000</td>\n",
       "      <td>8.95000</td>\n",
       "      <td>23.787500</td>\n",
       "    </tr>\n",
       "    <tr>\n",
       "      <th>max</th>\n",
       "      <td>8.460000</td>\n",
       "      <td>6.81000</td>\n",
       "      <td>12.90000</td>\n",
       "      <td>29.810000</td>\n",
       "    </tr>\n",
       "  </tbody>\n",
       "</table>\n",
       "</div>"
      ],
      "text/plain": [
       "                pH   turbidity  dissolved_oxygen  temperature\n",
       "count  1000.000000  1000.00000        1000.00000  1000.000000\n",
       "mean      7.009950     3.01098           7.95224    21.867860\n",
       "std       0.493966     0.99180           1.55416     2.863409\n",
       "min       5.280000    -0.10000           2.49000    13.730000\n",
       "25%       6.687500     2.37000           6.91750    19.930000\n",
       "50%       7.020000     3.01000           7.92500    21.860000\n",
       "75%       7.350000     3.70000           8.95000    23.787500\n",
       "max       8.460000     6.81000          12.90000    29.810000"
      ]
     },
     "execution_count": 9,
     "metadata": {},
     "output_type": "execute_result"
    }
   ],
   "source": [
    "data.describe()"
   ]
  },
  {
   "cell_type": "code",
   "execution_count": 4,
   "id": "dfab4657",
   "metadata": {},
   "outputs": [
    {
     "data": {
      "text/html": [
       "<div>\n",
       "<style scoped>\n",
       "    .dataframe tbody tr th:only-of-type {\n",
       "        vertical-align: middle;\n",
       "    }\n",
       "\n",
       "    .dataframe tbody tr th {\n",
       "        vertical-align: top;\n",
       "    }\n",
       "\n",
       "    .dataframe thead th {\n",
       "        text-align: right;\n",
       "    }\n",
       "</style>\n",
       "<table border=\"1\" class=\"dataframe\">\n",
       "  <thead>\n",
       "    <tr style=\"text-align: right;\">\n",
       "      <th></th>\n",
       "      <th>sensor_id</th>\n",
       "      <th>timestamp</th>\n",
       "      <th>pH</th>\n",
       "      <th>turbidity</th>\n",
       "      <th>dissolved_oxygen</th>\n",
       "      <th>temperature</th>\n",
       "    </tr>\n",
       "  </thead>\n",
       "  <tbody>\n",
       "    <tr>\n",
       "      <th>506</th>\n",
       "      <td>SENSOR_009</td>\n",
       "      <td>2023-01-11 13:00:00</td>\n",
       "      <td>7.43</td>\n",
       "      <td>-0.1</td>\n",
       "      <td>6.81</td>\n",
       "      <td>21.68</td>\n",
       "    </tr>\n",
       "  </tbody>\n",
       "</table>\n",
       "</div>"
      ],
      "text/plain": [
       "      sensor_id            timestamp    pH  turbidity  dissolved_oxygen  \\\n",
       "506  SENSOR_009  2023-01-11 13:00:00  7.43       -0.1              6.81   \n",
       "\n",
       "     temperature  \n",
       "506        21.68  "
      ]
     },
     "execution_count": 4,
     "metadata": {},
     "output_type": "execute_result"
    }
   ],
   "source": [
    "data[data.turbidity < 0]"
   ]
  },
  {
   "cell_type": "markdown",
   "id": "cdeb01ed",
   "metadata": {},
   "source": [
    "Water turbidity should not be negative; set negative turbidity values to 0 \n"
   ]
  },
  {
   "cell_type": "markdown",
   "id": "312795b8",
   "metadata": {},
   "source": []
  },
  {
   "cell_type": "code",
   "execution_count": 5,
   "id": "af0af389",
   "metadata": {},
   "outputs": [],
   "source": [
    "data.loc[data.turbidity < 0, 'turbidity'] = 0"
   ]
  },
  {
   "cell_type": "code",
   "execution_count": 6,
   "id": "5677d55a",
   "metadata": {},
   "outputs": [
    {
     "data": {
      "text/html": [
       "<div>\n",
       "<style scoped>\n",
       "    .dataframe tbody tr th:only-of-type {\n",
       "        vertical-align: middle;\n",
       "    }\n",
       "\n",
       "    .dataframe tbody tr th {\n",
       "        vertical-align: top;\n",
       "    }\n",
       "\n",
       "    .dataframe thead th {\n",
       "        text-align: right;\n",
       "    }\n",
       "</style>\n",
       "<table border=\"1\" class=\"dataframe\">\n",
       "  <thead>\n",
       "    <tr style=\"text-align: right;\">\n",
       "      <th></th>\n",
       "      <th>sensor_id</th>\n",
       "      <th>timestamp</th>\n",
       "      <th>pH</th>\n",
       "      <th>turbidity</th>\n",
       "      <th>dissolved_oxygen</th>\n",
       "      <th>temperature</th>\n",
       "    </tr>\n",
       "  </thead>\n",
       "  <tbody>\n",
       "  </tbody>\n",
       "</table>\n",
       "</div>"
      ],
      "text/plain": [
       "Empty DataFrame\n",
       "Columns: [sensor_id, timestamp, pH, turbidity, dissolved_oxygen, temperature]\n",
       "Index: []"
      ]
     },
     "execution_count": 6,
     "metadata": {},
     "output_type": "execute_result"
    }
   ],
   "source": [
    "data[data.turbidity < 0]"
   ]
  },
  {
   "cell_type": "code",
   "execution_count": null,
   "id": "57d5b1e4",
   "metadata": {},
   "outputs": [],
   "source": []
  }
 ],
 "metadata": {
  "kernelspec": {
   "display_name": "Python 3",
   "language": "python",
   "name": "python3"
  },
  "language_info": {
   "codemirror_mode": {
    "name": "ipython",
    "version": 3
   },
   "file_extension": ".py",
   "mimetype": "text/x-python",
   "name": "python",
   "nbconvert_exporter": "python",
   "pygments_lexer": "ipython3",
   "version": "3.12.3"
  }
 },
 "nbformat": 4,
 "nbformat_minor": 5
}
